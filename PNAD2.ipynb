{
 "cells": [
  {
   "cell_type": "code",
   "execution_count": 53,
   "id": "d88bd10d",
   "metadata": {},
   "outputs": [],
   "source": [
    "import pandas as pd\n",
    "import matplotlib.pyplot as plt\n",
    "import matplotlib.colors\n",
    "from seaborn import kdeplot\n",
    "import numpy as np\n",
    "import zipfile"
   ]
  },
  {
   "cell_type": "code",
   "execution_count": 54,
   "id": "455366a1",
   "metadata": {},
   "outputs": [],
   "source": [
    "import scipy.stats as sp\n",
    "import patsy as pt\n",
    "import statsmodels.api as sm\n",
    "from sklearn.model_selection import train_test_split\n",
    "from sklearn.preprocessing import KBinsDiscretizer\n",
    "from sklearn.neighbors import KernelDensity"
   ]
  },
  {
   "cell_type": "code",
   "execution_count": 55,
   "id": "08b6e88b",
   "metadata": {
    "scrolled": true
   },
   "outputs": [
    {
     "data": {
      "text/html": [
       "<style>.container { width:85% !important; }</style>"
      ],
      "text/plain": [
       "<IPython.core.display.HTML object>"
      ]
     },
     "metadata": {},
     "output_type": "display_data"
    }
   ],
   "source": [
    "from IPython.display import display, HTML\n",
    "display(HTML(\"<style>.container { width:85% !important; }</style>\"))\n",
    "pd.set_option('display.max_columns', None)"
   ]
  },
  {
   "cell_type": "code",
   "execution_count": 56,
   "id": "ec35b104",
   "metadata": {},
   "outputs": [],
   "source": [
    "entrada = {'zipf': ['PNADC_012022_20220916', 'PNADC_022022_20220916','Dados_20170517', \n",
    "                    'Dicionario_e_input_20220224', 'Dicionarios_e_input_20170517'], \n",
    "          'subd': ['', '/Dicionários e input', '/Dados'], #SUBDIRETORIO\n",
    "          'arq': ['dicionario_PNADC_microdados_trimestral', #Dicionarios\n",
    "            'Dicionário de variáveis de pessoas - PNAD 2015',\n",
    "            'Dicionário de variáveis de domicílios - PNAD 2015',\n",
    "            'PNADC_012022', 'PNADC_022022', 'DOM2015', 'PES2015']}"
   ]
  },
  {
   "cell_type": "markdown",
   "id": "1e657742",
   "metadata": {},
   "source": [
    "#### Carregamento de dados no formato .fwf\n",
    "[0][0:]pesquisas [1][0:] dicionarios || [0][0:]subdiretórios [1][0:]dicionarios [2][0:]microdados"
   ]
  },
  {
   "cell_type": "code",
   "execution_count": 57,
   "id": "b447751b",
   "metadata": {},
   "outputs": [],
   "source": [
    "def loadData(dicio, dados, n_fields=220, lastPos=3478):\n",
    "    with zipfile.ZipFile(f'C:/DATASETS/IBGE/PNAD/{dicio[0]}.zip') as z:\n",
    "        df_dict = pd.read_excel(z.open(f'{dicio[1]}{dicio[2]}.xls'), header=None, \n",
    "                              skiprows=4, dtype='string').dropna(how='all')[[0, 1, 2, 4, 5, 6]]\n",
    "\n",
    "        sizes = df_dict[1][df_dict[1].str.isnumeric()].astype(int).values\n",
    "        positions = df_dict[0][df_dict[0].str.isnumeric()].astype(int).values-1\n",
    "        final_pos = [i[0]+i[1] for i in zip(positions, sizes)]\n",
    "        final_pos[n_fields], final_pos = lastPos, final_pos[0:n_fields]\n",
    "        tuples = list(zip(positions, final_pos))\n",
    "    #dicionário de variáveis e tamanhos das colunas\n",
    "\n",
    "    with zipfile.ZipFile(f'C:/DATASETS/IBGE/PNAD/{dados[0]}.zip') as z:\n",
    "        pnad = pd.read_fwf(z.open(f'{dados[1]}{dados[2]}.txt'), \n",
    "                              colspecs=tuples, header=None, nrows=500000, dtype=str)\n",
    "\n",
    "    df_dict.fillna(value=None, method='ffill', inplace=True)\n",
    "    df_dict.set_index(2, inplace=True)\n",
    "    df_dict.index = df_dict.index.str.lower()\n",
    "    pnad.columns = list(df_dict.index.str.lower().dropna().unique()[0:n_fields]) #dataset carregado\n",
    "    \n",
    "    return pnad"
   ]
  },
  {
   "cell_type": "code",
   "execution_count": 58,
   "id": "a9873894",
   "metadata": {},
   "outputs": [
    {
     "ename": "KeyboardInterrupt",
     "evalue": "",
     "output_type": "error",
     "traceback": [
      "\u001b[1;31m---------------------------------------------------------------------------\u001b[0m",
      "\u001b[1;31mKeyboardInterrupt\u001b[0m                         Traceback (most recent call last)",
      "\u001b[1;32m<ipython-input-58-55493e70f22e>\u001b[0m in \u001b[0;36m<module>\u001b[1;34m\u001b[0m\n\u001b[1;32m----> 1\u001b[1;33m pnad = loadData(dicio=[entrada['zipf'][3], entrada['subd'][0], entrada['arq'][0]], \n\u001b[0m\u001b[0;32m      2\u001b[0m                 \u001b[0mdados\u001b[0m\u001b[1;33m=\u001b[0m\u001b[1;33m[\u001b[0m\u001b[0mentrada\u001b[0m\u001b[1;33m[\u001b[0m\u001b[1;34m'zipf'\u001b[0m\u001b[1;33m]\u001b[0m\u001b[1;33m[\u001b[0m\u001b[1;36m0\u001b[0m\u001b[1;33m]\u001b[0m\u001b[1;33m,\u001b[0m \u001b[0mentrada\u001b[0m\u001b[1;33m[\u001b[0m\u001b[1;34m'subd'\u001b[0m\u001b[1;33m]\u001b[0m\u001b[1;33m[\u001b[0m\u001b[1;36m0\u001b[0m\u001b[1;33m]\u001b[0m\u001b[1;33m,\u001b[0m \u001b[0mentrada\u001b[0m\u001b[1;33m[\u001b[0m\u001b[1;34m'arq'\u001b[0m\u001b[1;33m]\u001b[0m\u001b[1;33m[\u001b[0m\u001b[1;36m3\u001b[0m\u001b[1;33m]\u001b[0m\u001b[1;33m]\u001b[0m\u001b[1;33m,\u001b[0m\u001b[1;33m\u001b[0m\u001b[1;33m\u001b[0m\u001b[0m\n\u001b[0;32m      3\u001b[0m                 n_fields=220, lastPos=3478)\n",
      "\u001b[1;32m<ipython-input-57-8d36320de249>\u001b[0m in \u001b[0;36mloadData\u001b[1;34m(dicio, dados, n_fields, lastPos)\u001b[0m\n\u001b[0;32m     12\u001b[0m \u001b[1;33m\u001b[0m\u001b[0m\n\u001b[0;32m     13\u001b[0m     \u001b[1;32mwith\u001b[0m \u001b[0mzipfile\u001b[0m\u001b[1;33m.\u001b[0m\u001b[0mZipFile\u001b[0m\u001b[1;33m(\u001b[0m\u001b[1;34mf'C:/DATASETS/IBGE/PNAD/{dados[0]}.zip'\u001b[0m\u001b[1;33m)\u001b[0m \u001b[1;32mas\u001b[0m \u001b[0mz\u001b[0m\u001b[1;33m:\u001b[0m\u001b[1;33m\u001b[0m\u001b[1;33m\u001b[0m\u001b[0m\n\u001b[1;32m---> 14\u001b[1;33m         pnad = pd.read_fwf(z.open(f'{dados[1]}{dados[2]}.txt'), \n\u001b[0m\u001b[0;32m     15\u001b[0m                               colspecs=tuples, header=None, nrows=500000, dtype=str)\n\u001b[0;32m     16\u001b[0m \u001b[1;33m\u001b[0m\u001b[0m\n",
      "\u001b[1;32m~\\anaconda3\\lib\\site-packages\\pandas\\io\\parsers.py\u001b[0m in \u001b[0;36mread_fwf\u001b[1;34m(filepath_or_buffer, colspecs, widths, infer_nrows, **kwds)\u001b[0m\n\u001b[0;32m    768\u001b[0m     \u001b[0mkwds\u001b[0m\u001b[1;33m[\u001b[0m\u001b[1;34m\"infer_nrows\"\u001b[0m\u001b[1;33m]\u001b[0m \u001b[1;33m=\u001b[0m \u001b[0minfer_nrows\u001b[0m\u001b[1;33m\u001b[0m\u001b[1;33m\u001b[0m\u001b[0m\n\u001b[0;32m    769\u001b[0m     \u001b[0mkwds\u001b[0m\u001b[1;33m[\u001b[0m\u001b[1;34m\"engine\"\u001b[0m\u001b[1;33m]\u001b[0m \u001b[1;33m=\u001b[0m \u001b[1;34m\"python-fwf\"\u001b[0m\u001b[1;33m\u001b[0m\u001b[1;33m\u001b[0m\u001b[0m\n\u001b[1;32m--> 770\u001b[1;33m     \u001b[1;32mreturn\u001b[0m \u001b[0m_read\u001b[0m\u001b[1;33m(\u001b[0m\u001b[0mfilepath_or_buffer\u001b[0m\u001b[1;33m,\u001b[0m \u001b[0mkwds\u001b[0m\u001b[1;33m)\u001b[0m\u001b[1;33m\u001b[0m\u001b[1;33m\u001b[0m\u001b[0m\n\u001b[0m\u001b[0;32m    771\u001b[0m \u001b[1;33m\u001b[0m\u001b[0m\n\u001b[0;32m    772\u001b[0m \u001b[1;33m\u001b[0m\u001b[0m\n",
      "\u001b[1;32m~\\anaconda3\\lib\\site-packages\\pandas\\io\\parsers.py\u001b[0m in \u001b[0;36m_read\u001b[1;34m(filepath_or_buffer, kwds)\u001b[0m\n\u001b[0;32m    466\u001b[0m \u001b[1;33m\u001b[0m\u001b[0m\n\u001b[0;32m    467\u001b[0m     \u001b[1;32mwith\u001b[0m \u001b[0mparser\u001b[0m\u001b[1;33m:\u001b[0m\u001b[1;33m\u001b[0m\u001b[1;33m\u001b[0m\u001b[0m\n\u001b[1;32m--> 468\u001b[1;33m         \u001b[1;32mreturn\u001b[0m \u001b[0mparser\u001b[0m\u001b[1;33m.\u001b[0m\u001b[0mread\u001b[0m\u001b[1;33m(\u001b[0m\u001b[0mnrows\u001b[0m\u001b[1;33m)\u001b[0m\u001b[1;33m\u001b[0m\u001b[1;33m\u001b[0m\u001b[0m\n\u001b[0m\u001b[0;32m    469\u001b[0m \u001b[1;33m\u001b[0m\u001b[0m\n\u001b[0;32m    470\u001b[0m \u001b[1;33m\u001b[0m\u001b[0m\n",
      "\u001b[1;32m~\\anaconda3\\lib\\site-packages\\pandas\\io\\parsers.py\u001b[0m in \u001b[0;36mread\u001b[1;34m(self, nrows)\u001b[0m\n\u001b[0;32m   1055\u001b[0m     \u001b[1;32mdef\u001b[0m \u001b[0mread\u001b[0m\u001b[1;33m(\u001b[0m\u001b[0mself\u001b[0m\u001b[1;33m,\u001b[0m \u001b[0mnrows\u001b[0m\u001b[1;33m=\u001b[0m\u001b[1;32mNone\u001b[0m\u001b[1;33m)\u001b[0m\u001b[1;33m:\u001b[0m\u001b[1;33m\u001b[0m\u001b[1;33m\u001b[0m\u001b[0m\n\u001b[0;32m   1056\u001b[0m         \u001b[0mnrows\u001b[0m \u001b[1;33m=\u001b[0m \u001b[0mvalidate_integer\u001b[0m\u001b[1;33m(\u001b[0m\u001b[1;34m\"nrows\"\u001b[0m\u001b[1;33m,\u001b[0m \u001b[0mnrows\u001b[0m\u001b[1;33m)\u001b[0m\u001b[1;33m\u001b[0m\u001b[1;33m\u001b[0m\u001b[0m\n\u001b[1;32m-> 1057\u001b[1;33m         \u001b[0mindex\u001b[0m\u001b[1;33m,\u001b[0m \u001b[0mcolumns\u001b[0m\u001b[1;33m,\u001b[0m \u001b[0mcol_dict\u001b[0m \u001b[1;33m=\u001b[0m \u001b[0mself\u001b[0m\u001b[1;33m.\u001b[0m\u001b[0m_engine\u001b[0m\u001b[1;33m.\u001b[0m\u001b[0mread\u001b[0m\u001b[1;33m(\u001b[0m\u001b[0mnrows\u001b[0m\u001b[1;33m)\u001b[0m\u001b[1;33m\u001b[0m\u001b[1;33m\u001b[0m\u001b[0m\n\u001b[0m\u001b[0;32m   1058\u001b[0m \u001b[1;33m\u001b[0m\u001b[0m\n\u001b[0;32m   1059\u001b[0m         \u001b[1;32mif\u001b[0m \u001b[0mindex\u001b[0m \u001b[1;32mis\u001b[0m \u001b[1;32mNone\u001b[0m\u001b[1;33m:\u001b[0m\u001b[1;33m\u001b[0m\u001b[1;33m\u001b[0m\u001b[0m\n",
      "\u001b[1;32m~\\anaconda3\\lib\\site-packages\\pandas\\io\\parsers.py\u001b[0m in \u001b[0;36mread\u001b[1;34m(self, rows)\u001b[0m\n\u001b[0;32m   2463\u001b[0m     \u001b[1;32mdef\u001b[0m \u001b[0mread\u001b[0m\u001b[1;33m(\u001b[0m\u001b[0mself\u001b[0m\u001b[1;33m,\u001b[0m \u001b[0mrows\u001b[0m\u001b[1;33m=\u001b[0m\u001b[1;32mNone\u001b[0m\u001b[1;33m)\u001b[0m\u001b[1;33m:\u001b[0m\u001b[1;33m\u001b[0m\u001b[1;33m\u001b[0m\u001b[0m\n\u001b[0;32m   2464\u001b[0m         \u001b[1;32mtry\u001b[0m\u001b[1;33m:\u001b[0m\u001b[1;33m\u001b[0m\u001b[1;33m\u001b[0m\u001b[0m\n\u001b[1;32m-> 2465\u001b[1;33m             \u001b[0mcontent\u001b[0m \u001b[1;33m=\u001b[0m \u001b[0mself\u001b[0m\u001b[1;33m.\u001b[0m\u001b[0m_get_lines\u001b[0m\u001b[1;33m(\u001b[0m\u001b[0mrows\u001b[0m\u001b[1;33m)\u001b[0m\u001b[1;33m\u001b[0m\u001b[1;33m\u001b[0m\u001b[0m\n\u001b[0m\u001b[0;32m   2466\u001b[0m         \u001b[1;32mexcept\u001b[0m \u001b[0mStopIteration\u001b[0m\u001b[1;33m:\u001b[0m\u001b[1;33m\u001b[0m\u001b[1;33m\u001b[0m\u001b[0m\n\u001b[0;32m   2467\u001b[0m             \u001b[1;32mif\u001b[0m \u001b[0mself\u001b[0m\u001b[1;33m.\u001b[0m\u001b[0m_first_chunk\u001b[0m\u001b[1;33m:\u001b[0m\u001b[1;33m\u001b[0m\u001b[1;33m\u001b[0m\u001b[0m\n",
      "\u001b[1;32m~\\anaconda3\\lib\\site-packages\\pandas\\io\\parsers.py\u001b[0m in \u001b[0;36m_get_lines\u001b[1;34m(self, rows)\u001b[0m\n\u001b[0;32m   3259\u001b[0m                             \u001b[1;31m# error in next\u001b[0m\u001b[1;33m\u001b[0m\u001b[1;33m\u001b[0m\u001b[0m\n\u001b[0;32m   3260\u001b[0m                             \u001b[1;32massert\u001b[0m \u001b[0mself\u001b[0m\u001b[1;33m.\u001b[0m\u001b[0mdata\u001b[0m \u001b[1;32mis\u001b[0m \u001b[1;32mnot\u001b[0m \u001b[1;32mNone\u001b[0m\u001b[1;33m\u001b[0m\u001b[1;33m\u001b[0m\u001b[0m\n\u001b[1;32m-> 3261\u001b[1;33m                             \u001b[0mnew_rows\u001b[0m\u001b[1;33m.\u001b[0m\u001b[0mappend\u001b[0m\u001b[1;33m(\u001b[0m\u001b[0mnext\u001b[0m\u001b[1;33m(\u001b[0m\u001b[0mself\u001b[0m\u001b[1;33m.\u001b[0m\u001b[0mdata\u001b[0m\u001b[1;33m)\u001b[0m\u001b[1;33m)\u001b[0m\u001b[1;33m\u001b[0m\u001b[1;33m\u001b[0m\u001b[0m\n\u001b[0m\u001b[0;32m   3262\u001b[0m                         \u001b[0mlines\u001b[0m\u001b[1;33m.\u001b[0m\u001b[0mextend\u001b[0m\u001b[1;33m(\u001b[0m\u001b[0mnew_rows\u001b[0m\u001b[1;33m)\u001b[0m\u001b[1;33m\u001b[0m\u001b[1;33m\u001b[0m\u001b[0m\n\u001b[0;32m   3263\u001b[0m                     \u001b[1;32melse\u001b[0m\u001b[1;33m:\u001b[0m\u001b[1;33m\u001b[0m\u001b[1;33m\u001b[0m\u001b[0m\n",
      "\u001b[1;32m~\\anaconda3\\lib\\site-packages\\pandas\\io\\parsers.py\u001b[0m in \u001b[0;36m__next__\u001b[1;34m(self)\u001b[0m\n\u001b[0;32m   3743\u001b[0m                 \u001b[0mline\u001b[0m \u001b[1;33m=\u001b[0m \u001b[0mnext\u001b[0m\u001b[1;33m(\u001b[0m\u001b[0mself\u001b[0m\u001b[1;33m.\u001b[0m\u001b[0mf\u001b[0m\u001b[1;33m)\u001b[0m\u001b[1;33m\u001b[0m\u001b[1;33m\u001b[0m\u001b[0m\n\u001b[0;32m   3744\u001b[0m         \u001b[1;32melse\u001b[0m\u001b[1;33m:\u001b[0m\u001b[1;33m\u001b[0m\u001b[1;33m\u001b[0m\u001b[0m\n\u001b[1;32m-> 3745\u001b[1;33m             \u001b[0mline\u001b[0m \u001b[1;33m=\u001b[0m \u001b[0mnext\u001b[0m\u001b[1;33m(\u001b[0m\u001b[0mself\u001b[0m\u001b[1;33m.\u001b[0m\u001b[0mf\u001b[0m\u001b[1;33m)\u001b[0m\u001b[1;33m\u001b[0m\u001b[1;33m\u001b[0m\u001b[0m\n\u001b[0m\u001b[0;32m   3746\u001b[0m         \u001b[1;31m# Note: 'colspecs' is a sequence of half-open intervals.\u001b[0m\u001b[1;33m\u001b[0m\u001b[1;33m\u001b[0m\u001b[0m\n\u001b[0;32m   3747\u001b[0m         \u001b[1;32mreturn\u001b[0m \u001b[1;33m[\u001b[0m\u001b[0mline\u001b[0m\u001b[1;33m[\u001b[0m\u001b[0mfromm\u001b[0m\u001b[1;33m:\u001b[0m\u001b[0mto\u001b[0m\u001b[1;33m]\u001b[0m\u001b[1;33m.\u001b[0m\u001b[0mstrip\u001b[0m\u001b[1;33m(\u001b[0m\u001b[0mself\u001b[0m\u001b[1;33m.\u001b[0m\u001b[0mdelimiter\u001b[0m\u001b[1;33m)\u001b[0m \u001b[1;32mfor\u001b[0m \u001b[1;33m(\u001b[0m\u001b[0mfromm\u001b[0m\u001b[1;33m,\u001b[0m \u001b[0mto\u001b[0m\u001b[1;33m)\u001b[0m \u001b[1;32min\u001b[0m \u001b[0mself\u001b[0m\u001b[1;33m.\u001b[0m\u001b[0mcolspecs\u001b[0m\u001b[1;33m]\u001b[0m\u001b[1;33m\u001b[0m\u001b[1;33m\u001b[0m\u001b[0m\n",
      "\u001b[1;32m~\\anaconda3\\lib\\zipfile.py\u001b[0m in \u001b[0;36mread1\u001b[1;34m(self, n)\u001b[0m\n\u001b[0;32m    968\u001b[0m         \u001b[1;32mif\u001b[0m \u001b[0mn\u001b[0m \u001b[1;33m>\u001b[0m \u001b[1;36m0\u001b[0m\u001b[1;33m:\u001b[0m\u001b[1;33m\u001b[0m\u001b[1;33m\u001b[0m\u001b[0m\n\u001b[0;32m    969\u001b[0m             \u001b[1;32mwhile\u001b[0m \u001b[1;32mnot\u001b[0m \u001b[0mself\u001b[0m\u001b[1;33m.\u001b[0m\u001b[0m_eof\u001b[0m\u001b[1;33m:\u001b[0m\u001b[1;33m\u001b[0m\u001b[1;33m\u001b[0m\u001b[0m\n\u001b[1;32m--> 970\u001b[1;33m                 \u001b[0mdata\u001b[0m \u001b[1;33m=\u001b[0m \u001b[0mself\u001b[0m\u001b[1;33m.\u001b[0m\u001b[0m_read1\u001b[0m\u001b[1;33m(\u001b[0m\u001b[0mn\u001b[0m\u001b[1;33m)\u001b[0m\u001b[1;33m\u001b[0m\u001b[1;33m\u001b[0m\u001b[0m\n\u001b[0m\u001b[0;32m    971\u001b[0m                 \u001b[1;32mif\u001b[0m \u001b[0mn\u001b[0m \u001b[1;33m<\u001b[0m \u001b[0mlen\u001b[0m\u001b[1;33m(\u001b[0m\u001b[0mdata\u001b[0m\u001b[1;33m)\u001b[0m\u001b[1;33m:\u001b[0m\u001b[1;33m\u001b[0m\u001b[1;33m\u001b[0m\u001b[0m\n\u001b[0;32m    972\u001b[0m                     \u001b[0mself\u001b[0m\u001b[1;33m.\u001b[0m\u001b[0m_readbuffer\u001b[0m \u001b[1;33m=\u001b[0m \u001b[0mdata\u001b[0m\u001b[1;33m\u001b[0m\u001b[1;33m\u001b[0m\u001b[0m\n",
      "\u001b[1;32m~\\anaconda3\\lib\\zipfile.py\u001b[0m in \u001b[0;36m_read1\u001b[1;34m(self, n)\u001b[0m\n\u001b[0;32m    998\u001b[0m         \u001b[1;32melif\u001b[0m \u001b[0mself\u001b[0m\u001b[1;33m.\u001b[0m\u001b[0m_compress_type\u001b[0m \u001b[1;33m==\u001b[0m \u001b[0mZIP_DEFLATED\u001b[0m\u001b[1;33m:\u001b[0m\u001b[1;33m\u001b[0m\u001b[1;33m\u001b[0m\u001b[0m\n\u001b[0;32m    999\u001b[0m             \u001b[0mn\u001b[0m \u001b[1;33m=\u001b[0m \u001b[0mmax\u001b[0m\u001b[1;33m(\u001b[0m\u001b[0mn\u001b[0m\u001b[1;33m,\u001b[0m \u001b[0mself\u001b[0m\u001b[1;33m.\u001b[0m\u001b[0mMIN_READ_SIZE\u001b[0m\u001b[1;33m)\u001b[0m\u001b[1;33m\u001b[0m\u001b[1;33m\u001b[0m\u001b[0m\n\u001b[1;32m-> 1000\u001b[1;33m             \u001b[0mdata\u001b[0m \u001b[1;33m=\u001b[0m \u001b[0mself\u001b[0m\u001b[1;33m.\u001b[0m\u001b[0m_decompressor\u001b[0m\u001b[1;33m.\u001b[0m\u001b[0mdecompress\u001b[0m\u001b[1;33m(\u001b[0m\u001b[0mdata\u001b[0m\u001b[1;33m,\u001b[0m \u001b[0mn\u001b[0m\u001b[1;33m)\u001b[0m\u001b[1;33m\u001b[0m\u001b[1;33m\u001b[0m\u001b[0m\n\u001b[0m\u001b[0;32m   1001\u001b[0m             self._eof = (self._decompressor.eof or\n\u001b[0;32m   1002\u001b[0m                          \u001b[0mself\u001b[0m\u001b[1;33m.\u001b[0m\u001b[0m_compress_left\u001b[0m \u001b[1;33m<=\u001b[0m \u001b[1;36m0\u001b[0m \u001b[1;32mand\u001b[0m\u001b[1;33m\u001b[0m\u001b[1;33m\u001b[0m\u001b[0m\n",
      "\u001b[1;31mKeyboardInterrupt\u001b[0m: "
     ]
    }
   ],
   "source": [
    "pnad = loadData(dicio=[entrada['zipf'][3], entrada['subd'][0], entrada['arq'][0]], \n",
    "                dados=[entrada['zipf'][0], entrada['subd'][0], entrada['arq'][3]],\n",
    "                n_fields=220, lastPos=3478)"
   ]
  },
  {
   "cell_type": "code",
   "execution_count": null,
   "id": "bf87dbe5",
   "metadata": {},
   "outputs": [],
   "source": [
    "pnad2 = loadData(dicio=[entrada['zipf'][3], entrada['subd'][0], entrada['arq'][0]], \n",
    "                dados=[entrada['zipf'][1], entrada['subd'][0], entrada['arq'][4]],\n",
    "                n_fields=220, lastPos=3478)"
   ]
  },
  {
   "cell_type": "code",
   "execution_count": null,
   "id": "04c2579d",
   "metadata": {},
   "outputs": [],
   "source": [
    "pnad = pd.concat([pnad, pnad2])\n",
    "del pnad2"
   ]
  },
  {
   "cell_type": "code",
   "execution_count": null,
   "id": "9e04ed70",
   "metadata": {},
   "outputs": [],
   "source": [
    "def cat_dict(df, var): #substituir códigos pelo nome da categoria\n",
    "    catDict = dict()\n",
    "    for n, cat in enumerate(df_dict.loc[var][5]):\n",
    "        catDict[cat] = df_dict.loc[var][6][n]\n",
    "    return {var.lower(): catDict}"
   ]
  },
  {
   "cell_type": "code",
   "execution_count": null,
   "id": "73f76d62",
   "metadata": {},
   "outputs": [],
   "source": [
    "def var_dict(df): #substituir nomes das colunas pela descrição, se tiver menos de 25 caracteres\n",
    "    colDict = dict()\n",
    "    for n, col in enumerate(df[4].drop_duplicates().index.unique()):\n",
    "        if len(df[4].drop_duplicates()[n])<25:\n",
    "            colDict[col] = df[4].drop_duplicates()[n]\n",
    "    return colDict"
   ]
  },
  {
   "cell_type": "code",
   "execution_count": null,
   "id": "373f7c3e",
   "metadata": {},
   "outputs": [],
   "source": [
    " def drop_min_obs(df, min_obs=10000): #excluir colunas que não tenha o min desejado de obs\n",
    "    to_drop = list()\n",
    "    for i in df.columns:\n",
    "        n_obs = (df[i].isna()==False).sum()\n",
    "        if n_obs<min_obs:\n",
    "            to_drop.append(i)\n",
    "        else:\n",
    "            pass\n",
    "\n",
    "    return df.drop(to_drop, axis=1, inplace=True)\n",
    "\n",
    "#drop_min_obs(pnad, min_obs=50000)"
   ]
  },
  {
   "cell_type": "code",
   "execution_count": null,
   "id": "7fc65b36",
   "metadata": {
    "scrolled": false
   },
   "outputs": [],
   "source": [
    "pnad.replace(cat_dict(df_dict, 'v2007')).rename(columns=var_dict(df_dict)).head()"
   ]
  },
  {
   "cell_type": "code",
   "execution_count": null,
   "id": "d45b0352",
   "metadata": {},
   "outputs": [],
   "source": [
    "index=iter(df_dict.index.unique()) #explorar dicionário de categorias"
   ]
  },
  {
   "cell_type": "code",
   "execution_count": null,
   "id": "ae75cb9c",
   "metadata": {},
   "outputs": [],
   "source": [
    "df_dict.loc[next(index)]"
   ]
  },
  {
   "cell_type": "code",
   "execution_count": null,
   "id": "bb553154",
   "metadata": {
    "scrolled": true
   },
   "outputs": [],
   "source": [
    "pnad.shape"
   ]
  },
  {
   "cell_type": "markdown",
   "id": "4064f1cf",
   "metadata": {},
   "source": [
    "#### Explorar dados por índice nominal"
   ]
  },
  {
   "cell_type": "code",
   "execution_count": null,
   "id": "fe62ccfb",
   "metadata": {},
   "outputs": [],
   "source": [
    "cap = iter(pnad['capital'].dropna().unique())"
   ]
  },
  {
   "cell_type": "code",
   "execution_count": null,
   "id": "8aec1a22",
   "metadata": {
    "scrolled": false
   },
   "outputs": [],
   "source": [
    "# explorar dataframe por índices nominais\n",
    "pnad.set_index('capital').loc[next(cap)].head()"
   ]
  },
  {
   "cell_type": "code",
   "execution_count": null,
   "id": "52f0b8d1",
   "metadata": {},
   "outputs": [],
   "source": [
    "filtro_renda = ((pnad['v2005']=='03')|(pnad['v2005']=='02')|(pnad['v2005']=='01'))\\\n",
    "                  &(pnad['v2009'].astype(int)>=20)&(pnad['uf']=='31')\n",
    "                    #&(pnad['v403312'].dropna().astype(int)>500)&(pnad['v403312'].dropna().astype(int)<=5000)"
   ]
  },
  {
   "cell_type": "code",
   "execution_count": null,
   "id": "dcbf38d9",
   "metadata": {
    "scrolled": false
   },
   "outputs": [],
   "source": [
    "ax, fig = plt.subplots(figsize=(12,6), facecolor='#084d6e')\n",
    "\n",
    "for cor in np.delete(pnad['v2010'].dropna().unique(), -1):\n",
    "    fig.hist(pnad[(pnad['v2009'].astype(int)>21)&(pnad['v2010']==cor)]['vd3005'].dropna().astype(int), bins=7, \n",
    "             alpha=1/len(np.delete(pnad['v2010'].dropna().unique(), -1)), color='orange')\n",
    "\n",
    "ax2 = ax.gca().twinx()\n",
    "for cor in np.delete(pnad['v2010'].dropna().unique(), -1):\n",
    "    kdeplot(pnad[(pnad['v2009'].astype(int)>21)&(pnad['v2010']==cor)]['vd3005'].dropna().astype(int), \n",
    "            lw=1, label=cor, ax=ax2)\n",
    "fig.set_facecolor('#084d6e')\n",
    "plt.legend()\n",
    "plt.title('Distribuição de frequência de anos estudados')\n",
    "plt.show()"
   ]
  },
  {
   "cell_type": "markdown",
   "id": "048dcc4e",
   "metadata": {},
   "source": [
    "Teste K-S de normalidade da variável renda"
   ]
  },
  {
   "cell_type": "code",
   "execution_count": null,
   "id": "a0547c48",
   "metadata": {
    "scrolled": true
   },
   "outputs": [],
   "source": [
    "sp.stats.kstest(pnad['v403312'].dropna().astype(int), 'norm')"
   ]
  },
  {
   "cell_type": "markdown",
   "id": "2eb6674a",
   "metadata": {},
   "source": [
    "### Data Wranggling\n",
    "• Determinação de domicílios com pais e filhos morando para comparar anos de estudo entre gerações<p>\n",
    "    >> Se domicílio possui V2005=='04' (filho), basta verificar o identificador do domicílio no dataset completo para filtrar"
   ]
  },
  {
   "cell_type": "code",
   "execution_count": null,
   "id": "70fe2a8e",
   "metadata": {},
   "outputs": [],
   "source": [
    "filtro_f = (pnad['v2005']=='04') & (pnad['v2009'].astype(int)>=25) #datasets de filhos e seus responsáveis\n",
    "filtro_r = (pnad['v2005']=='01') & (pnad['v2009'].astype(int)>=25)\n",
    "\n",
    "df_filhos = pnad[filtro_f][['uf', 'upa', 'estrato', 'v1008', 'vd3005', 'v2005', 'v2009']]\n",
    "df_resp = pnad[filtro_r][['upa', 'estrato', 'v1008', 'vd3005', 'v2005', 'v2009']]\n",
    "\n",
    "for i in [df_filhos, df_resp]: #unificando campos que identificam domicílios em uma primary key\n",
    "    i['key'] = i['upa']+i['estrato']+i['v1008']\n",
    "    i.drop(['upa','estrato','v1008'], axis=1, inplace=True)\n",
    "\n",
    "df_fc = df_resp.merge(df_filhos, on='key', suffixes=['_r', '_f'])"
   ]
  },
  {
   "cell_type": "code",
   "execution_count": null,
   "id": "0246bf0f",
   "metadata": {},
   "outputs": [],
   "source": [
    "df_fc.head(3)"
   ]
  },
  {
   "cell_type": "markdown",
   "id": "247e6a80",
   "metadata": {},
   "source": [
    "#### Comparando anos estudados pelos pais com os anos estudados dos filhos"
   ]
  },
  {
   "cell_type": "code",
   "execution_count": null,
   "id": "02c50180",
   "metadata": {},
   "outputs": [],
   "source": [
    "#tabela de contingência de anos estudados pelos responsáveis e pelos filhos\n",
    "df_fc_resp = df_fc[['v2005_r', 'vd3005_r', 'key']].drop_duplicates() #não contar um pai mais de uma vez por ter mais de um filho\n",
    "anos = pd.concat([df_fc_resp['vd3005_r'], df_fc['vd3005_f']]).astype(float)\n",
    "cat = pd.concat([df_fc_resp['v2005_r'], df_fc['v2005_f']]).astype('category')\n",
    "\n",
    "df_final = pd.concat([anos, cat], axis=1, ignore_index=True)\n",
    "df_final.columns=['anos_estudados', 'relacao_familia']\n",
    "\n",
    "df_final['anos_estudados_c'] = pd.cut(df_final['anos_estudados'].astype(int), bins=[0,4,7,11,15,16], \n",
    "                                      labels=['0 a 3', '4 a 7', '8 a 11', '12 a 15', '16+'])"
   ]
  },
  {
   "cell_type": "code",
   "execution_count": null,
   "id": "1201b8af",
   "metadata": {
    "scrolled": true
   },
   "outputs": [],
   "source": [
    "pd.crosstab(df_final['anos_estudados_c'],\n",
    "            df_final['relacao_familia'].replace(cat_dict(df_dict, 'v2005')['v2005'])) #normalizada para checar porcentagens muito abaixo de 5%"
   ]
  },
  {
   "cell_type": "code",
   "execution_count": null,
   "id": "bd7ae9e1",
   "metadata": {
    "scrolled": false
   },
   "outputs": [],
   "source": [
    "plt.hist(df_final[df_final['relacao_familia']=='01']['anos_estudados'].astype(int), alpha=0.5, color='blue', bins=5, align='left')\n",
    "plt.hist(df_final[df_final['relacao_familia']=='04']['anos_estudados'].astype(int), alpha=0.5, color='orange', bins=5, align='left')\n",
    "plt.title('Distribuição de frequência de anos estudados \\npor responsáveis e seus filhos')\n",
    "plt.show()"
   ]
  },
  {
   "cell_type": "markdown",
   "id": "f3589c65",
   "metadata": {},
   "source": [
    "### Qui Quadrado\n",
    "1. Discretização da variável \"anos estudados\" (vd3005)<p>\n",
    "2. Tabela de contingência de faixa de anos de estudo por condição no domicílio <P>\n",
    "3. Normalização por coluna. \"Filho do responsável\" de 0 a 3 anos deu pouco a baixo de 5%, mas como a amostragem é grande, realizei o teste assim mesmo.<p>\n",
    "4. realizei um segundo teste com todos os responsáveis maiores de 35 anos (porque é média dos responsáveis que possuem filho no domicílio do df_final) e todos os filhos maiores de 22 anos."
   ]
  },
  {
   "cell_type": "code",
   "execution_count": null,
   "id": "c697f90c",
   "metadata": {
    "scrolled": false
   },
   "outputs": [],
   "source": [
    "#qui quadrado com a biblioteca scipy\n",
    "sp.chi2_contingency(pd.crosstab(df_final['anos_estudados_c'], df_final['relacao_familia']))"
   ]
  },
  {
   "cell_type": "markdown",
   "id": "79816793",
   "metadata": {},
   "source": [
    "Teste incluindo responsáveis que não possuem filhos"
   ]
  },
  {
   "cell_type": "code",
   "execution_count": null,
   "id": "72e035ec",
   "metadata": {},
   "outputs": [],
   "source": [
    "filtro_rf = ((pnad['v2005']=='01')&(pnad['v2009'].astype(int)>=36))|((pnad['v2009'].astype(int)>=22)&(pnad['v2005']=='04'))\n",
    "\n",
    "pnad['vd3005_c']=pd.cut(pnad['vd3005'].dropna().astype(int), bins=[0,4,7,11,15,16], \n",
    "                                      labels=['0 a 3', '4 a 7', '8 a 11', '12 a 15', '16+'])\n",
    "\n",
    "sp.chi2_contingency(pd.crosstab(pnad[filtro_rf]['vd3005_c'].astype('category'), pnad[filtro_rf]['v2005'].astype('category')))"
   ]
  },
  {
   "cell_type": "markdown",
   "id": "47e965bc",
   "metadata": {},
   "source": [
    "### Teste T\n",
    "• responsáveis acima de 35 anos (média dos responsáveis do dataset pareado)<p>\n",
    "• filhos acima de 22 anos ()"
   ]
  },
  {
   "cell_type": "code",
   "execution_count": null,
   "id": "da01a6d5",
   "metadata": {},
   "outputs": [],
   "source": [
    "filtro_resp = (pnad['v2005']=='01')&(pnad['v2009'].astype(int)>=36)\n",
    "filtro_filho = (pnad['v2005']=='04')&(pnad['v2009'].astype(int)>=22)"
   ]
  },
  {
   "cell_type": "code",
   "execution_count": null,
   "id": "f314abc1",
   "metadata": {
    "scrolled": false
   },
   "outputs": [],
   "source": [
    "ax, fig = plt.subplots() #plotar anos estudados sem que todos os responsáveis tenham um filho na amostra\n",
    "fig.hist(pnad[filtro_resp]['vd3005'].astype(int), alpha=0.5, bins=6, color='blue')\n",
    "ax2 = ax.gca().twinx() #dar escalas diferentes para cada grupo, pois n amostral é muito discrepante\n",
    "ax2.hist(pnad[filtro_filho]['vd3005'].astype(int), alpha=0.5, bins=6, color='orange')\n",
    "\n",
    "plt.show()"
   ]
  },
  {
   "cell_type": "markdown",
   "id": "08bb8dfd",
   "metadata": {},
   "source": [
    "Sem filtragem de responsáveis -> n=133652 | filhos -> n=20506"
   ]
  },
  {
   "cell_type": "code",
   "execution_count": null,
   "id": "cd9c801f",
   "metadata": {
    "scrolled": false
   },
   "outputs": [],
   "source": [
    "sp.ttest_ind(pnad[filtro_resp]['vd3005'].astype(int), pnad[filtro_filho]['vd3005'].astype(int), equal_var=True)"
   ]
  },
  {
   "cell_type": "markdown",
   "id": "de102a71",
   "metadata": {},
   "source": [
    "Com filtragem de responsáveis (todos têm filhos, alguns mais de um)<p>\n",
    "    • responsáveis -> n=11857 <p>\n",
    "    • filhos -> n=14415"
   ]
  },
  {
   "cell_type": "code",
   "execution_count": null,
   "id": "2e9032b2",
   "metadata": {
    "scrolled": true
   },
   "outputs": [],
   "source": [
    "sp.ttest_ind(df_final[df_final['relacao_familia']=='01']['anos_estudados'],\n",
    "             df_final[df_final['relacao_familia']=='04']['anos_estudados'])"
   ]
  },
  {
   "cell_type": "code",
   "execution_count": null,
   "id": "4300cf3c",
   "metadata": {
    "scrolled": false
   },
   "outputs": [],
   "source": [
    "sp.stats.kstest(df_final['anos_estudados'], 'norm')"
   ]
  },
  {
   "cell_type": "code",
   "execution_count": null,
   "id": "b445b737",
   "metadata": {},
   "outputs": [],
   "source": [
    "def moradores_mesmo_domicilio(dfA, dfB):\n",
    "    for i in [dfA, dfB]: #unificando campos que identificam domicílios em uma primary key\n",
    "        i['key'] = i['upa']+i['estrato']+i['v1008']\n",
    "        i.drop(['upa','estrato','v1008'], axis=1, inplace=True)\n",
    "\n",
    "    dfa_dfb = dfA.merge(dfB, on='key', suffixes=['_r', '_f'])\n",
    "    \n",
    "    var_1 = list(a.keys())\n",
    "    dfa_dfb_resp = dfa_dfb[[var_1[0]+'_r', var+'_r', 'key']].drop_duplicates() #não contar um pai mais de uma vez por ter mais de um filho\n",
    "    anos = pd.concat([dfa_dfb_resp[var+'_r'], dfa_dfb[var+'_f']]).astype(float)\n",
    "    cat = pd.concat([dfa_dfb_resp[var_1[0]+'_r'], dfa_dfb[var_1[0]+'_f']]).astype('category')\n",
    "\n",
    "    dfa_dfb = pd.concat([anos, cat], axis=1, ignore_index=True)\n",
    "    dfa_dfb.columns=['anos_estudados', 'relacao_familia']\n",
    "    \n",
    "    return dfa_dfb"
   ]
  }
 ],
 "metadata": {
  "kernelspec": {
   "display_name": "Python 3",
   "language": "python",
   "name": "python3"
  },
  "language_info": {
   "codemirror_mode": {
    "name": "ipython",
    "version": 3
   },
   "file_extension": ".py",
   "mimetype": "text/x-python",
   "name": "python",
   "nbconvert_exporter": "python",
   "pygments_lexer": "ipython3",
   "version": "3.9.12"
  }
 },
 "nbformat": 4,
 "nbformat_minor": 5
}
